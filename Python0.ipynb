{
  "nbformat": 4,
  "nbformat_minor": 0,
  "metadata": {
    "colab": {
      "name": "Python0.ipynb",
      "provenance": [],
      "authorship_tag": "ABX9TyPB6s8iWAiJftEFd04ocMXA",
      "include_colab_link": true
    },
    "kernelspec": {
      "name": "python3",
      "display_name": "Python 3"
    }
  },
  "cells": [
    {
      "cell_type": "markdown",
      "metadata": {
        "id": "view-in-github",
        "colab_type": "text"
      },
      "source": [
        "<a href=\"https://colab.research.google.com/github/Kaviul/softcodes/blob/master/Python0.ipynb\" target=\"_parent\"><img src=\"https://colab.research.google.com/assets/colab-badge.svg\" alt=\"Open In Colab\"/></a>"
      ]
    },
    {
      "cell_type": "code",
      "metadata": {
        "id": "N9g6_Ljf09Q_",
        "colab_type": "code",
        "colab": {
          "base_uri": "https://localhost:8080/",
          "height": 170
        },
        "outputId": "d27bf8bf-c278-4edd-bbba-1b4753d5575c"
      },
      "source": [
        "number= 22\n",
        "print (number)\n",
        "type (number)\n",
        "number= 22.23\n",
        "type (number)\n",
        "\n",
        "integer= \"ghgdfjhgfdjh\"\n",
        "print (number)\n",
        "type (integer)\n",
        "\n",
        "num= True\n",
        "type (num)\n",
        "\n",
        "id (number)\n",
        "\n",
        "z=1\n",
        "x=3\n",
        "print (z, \"is a prime number\")\n",
        "\n",
        "d=45\n",
        "g=455\n",
        "print (d+g)\n",
        "\n",
        "p=5454566465248744254564444444444444444443222222222222222163555555555548548452321\n",
        "print (p)\n",
        "\n",
        "type (p)\n",
        "\n",
        "comp=  4+7j\n",
        "print (comp)\n",
        "comp.real\n",
        "\n",
        "x=4\n",
        "y=6\n",
        "\n",
        "print (x%y)\n",
        "\n",
        "if (x>y):\n",
        "  print (\"hoi nai\")\n",
        "elif (x<y):\n",
        "  print (\"hoise\")\n",
        "else:\n",
        "  print (\"kicchu paro na\")\n",
        "\n",
        "if (x>y):\n",
        "  print (\"hoi nai\")\n",
        "else:\n",
        "  print (\"kicchu paro na\")\n"
      ],
      "execution_count": 24,
      "outputs": [
        {
          "output_type": "stream",
          "text": [
            "22\n",
            "22.23\n",
            "1 is a prime number\n",
            "500\n",
            "5454566465248744254564444444444444444443222222222222222163555555555548548452321\n",
            "(4+7j)\n",
            "4\n",
            "hoise\n",
            "kicchu paro na\n"
          ],
          "name": "stdout"
        }
      ]
    },
    {
      "cell_type": "markdown",
      "metadata": {
        "id": "DbniSPSl2ULQ",
        "colab_type": "text"
      },
      "source": [
        ""
      ]
    },
    {
      "cell_type": "markdown",
      "metadata": {
        "id": "Yz9EIVW52Smp",
        "colab_type": "text"
      },
      "source": [
        ""
      ]
    }
  ]
}