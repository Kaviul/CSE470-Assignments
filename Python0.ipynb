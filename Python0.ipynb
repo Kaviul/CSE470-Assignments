{
  "nbformat": 4,
  "nbformat_minor": 0,
  "metadata": {
    "colab": {
      "name": "Python0.ipynb",
      "provenance": [],
      "authorship_tag": "ABX9TyPnek52Ov6joYmsCRiPA6GB",
      "include_colab_link": true
    },
    "kernelspec": {
      "name": "python3",
      "display_name": "Python 3"
    }
  },
  "cells": [
    {
      "cell_type": "markdown",
      "metadata": {
        "id": "view-in-github",
        "colab_type": "text"
      },
      "source": [
        "<a href=\"https://colab.research.google.com/github/Kaviul/softcodes/blob/master/Python0.ipynb\" target=\"_parent\"><img src=\"https://colab.research.google.com/assets/colab-badge.svg\" alt=\"Open In Colab\"/></a>"
      ]
    },
    {
      "cell_type": "code",
      "metadata": {
        "id": "N9g6_Ljf09Q_",
        "colab_type": "code",
        "colab": {
          "base_uri": "https://localhost:8080/",
          "height": 680
        },
        "outputId": "d9a6bad2-700c-4add-d78f-2eff7e90eb07"
      },
      "source": [
        "number= 22\n",
        "print (number)\n",
        "type (number)\n",
        "number= 22.23\n",
        "type (number)\n",
        "\n",
        "integer= \"ghgdfjhgfdjh\"\n",
        "print (number)\n",
        "type (integer)\n",
        "\n",
        "num= True\n",
        "type (num)\n",
        "\n",
        "id (number)\n",
        "\n",
        "z=1\n",
        "x=3\n",
        "print (z, \"is a prime number\")\n",
        "\n",
        "d=45\n",
        "g=455\n",
        "print (d+g)\n",
        "\n",
        "p=5454566465248744254564444444444444444443222222222222222163555555555548548452321\n",
        "print (p)\n",
        "\n",
        "type (p)\n",
        "\n",
        "comp=  4+7j\n",
        "print (comp)\n",
        "comp.real\n",
        "\n",
        "x=4\n",
        "y=6\n",
        "\n",
        "print (x%y)\n",
        "\n",
        "if (x>y):\n",
        "  print (\"hoi nai\")\n",
        "elif (x<y):\n",
        "  print (\"hoise\")\n",
        "else:\n",
        "  print (\"kicchu paro na\")\n",
        "\n",
        "if (x>y):\n",
        "  print (\"hoi nai\")\n",
        "else:\n",
        "  print (\"kicchu paro na\")\n",
        "\n",
        "x=45\n",
        "z= 37\n",
        "y= 45\n",
        "\n",
        "if (z>x):\n",
        "  if (x==y):\n",
        "    print (\"thikase\")\n",
        "  else:\n",
        "    print (\"hoy nai\")\n",
        "elif (z<x):\n",
        "  print (\"bujhlaam\")\n",
        "\n",
        "if z>0 and x>0:\n",
        "  print (\"true that\")\n",
        "\n",
        "if z>45 or x>32:\n",
        "  print (\"Piash mota na, o healthy\")\n",
        "  if z==z:\n",
        "    print (\"kaviul mota hoise\")\n",
        "  else:\n",
        "    print (\"kav onk mota chilo\")\n",
        "else:\n",
        "  print (\"shob thik ase\")\n",
        "\n",
        "\n",
        "li= [2,3,4,5,33,23]\n",
        "print (li[3])\n",
        "\n",
        "li\n",
        "li.append(56)\n",
        "li\n",
        "li= [2,34,5,5,6767,78,'a','f']\n",
        "print (li[6])\n",
        "\n",
        "li.append('g')\n",
        "li\n",
        "li.insert(6,'d') \n",
        "li\n",
        "li[5]=7\n",
        "li\n",
        "li[2]= [1,2,6,9]\n",
        "li\n",
        "len(li)\n",
        "li\n",
        "li.remove (5)\n",
        "li\n",
        "li.remove ('a')\n",
        "li\n",
        "\n",
        "t=2\n",
        "while t<=20:\n",
        "  print (t)\n",
        "  t+=2\n",
        "\n",
        "t=2\n",
        "while t<=40:\n",
        "  print (t,end=\" \")\n",
        "  t+=3\n",
        "  print ()\n",
        "print (\"Shesh bro\")"
      ],
      "execution_count": 55,
      "outputs": [
        {
          "output_type": "stream",
          "text": [
            "22\n",
            "22.23\n",
            "1 is a prime number\n",
            "500\n",
            "5454566465248744254564444444444444444443222222222222222163555555555548548452321\n",
            "(4+7j)\n",
            "4\n",
            "hoise\n",
            "kicchu paro na\n",
            "bujhlaam\n",
            "true that\n",
            "Piash mota na, o healthy\n",
            "kaviul mota hoise\n",
            "5\n",
            "a\n",
            "2\n",
            "4\n",
            "6\n",
            "8\n",
            "10\n",
            "12\n",
            "14\n",
            "16\n",
            "18\n",
            "20\n",
            "2 \n",
            "5 \n",
            "8 \n",
            "11 \n",
            "14 \n",
            "17 \n",
            "20 \n",
            "23 \n",
            "26 \n",
            "29 \n",
            "32 \n",
            "35 \n",
            "38 \n",
            "Shesh bro\n"
          ],
          "name": "stdout"
        }
      ]
    },
    {
      "cell_type": "markdown",
      "metadata": {
        "id": "DbniSPSl2ULQ",
        "colab_type": "text"
      },
      "source": [
        ""
      ]
    },
    {
      "cell_type": "markdown",
      "metadata": {
        "id": "Yz9EIVW52Smp",
        "colab_type": "text"
      },
      "source": [
        ""
      ]
    }
  ]
}